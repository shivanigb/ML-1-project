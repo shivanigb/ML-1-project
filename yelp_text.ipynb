{
 "cells": [
  {
   "cell_type": "code",
   "execution_count": 2,
   "metadata": {},
   "outputs": [],
   "source": [
    "import pandas as pd\n",
    "import numpy as np\n",
    "import seaborn as sns\n",
    "import matplotlib.pyplot as plt\n",
    "import seaborn as sns\n",
    "from matplotlib.cm import ScalarMappable \n",
    "from sklearn.model_selection import train_test_split\n",
    "from sklearn.feature_extraction.text import TfidfVectorizer\n",
    "from nltk.corpus import stopwords \n",
    "from nltk.tokenize import WordPunctTokenizer"
   ]
  },
  {
   "cell_type": "code",
   "execution_count": 3,
   "metadata": {},
   "outputs": [
    {
     "data": {
      "text/plain": [
       "re.compile(r'<title>(.*)</title>', re.UNICODE)"
      ]
     },
     "execution_count": 3,
     "metadata": {},
     "output_type": "execute_result"
    }
   ],
   "source": [
    "import re\n",
    "re.compile('<title>(.*)</title>')"
   ]
  },
  {
   "cell_type": "markdown",
   "metadata": {},
   "source": [
    "# EDA NEW DATASET"
   ]
  },
  {
   "cell_type": "markdown",
   "metadata": {},
   "source": [
    "# Category processing"
   ]
  },
  {
   "cell_type": "code",
   "execution_count": 4,
   "metadata": {},
   "outputs": [
    {
     "data": {
      "text/html": [
       "<div>\n",
       "<style scoped>\n",
       "    .dataframe tbody tr th:only-of-type {\n",
       "        vertical-align: middle;\n",
       "    }\n",
       "\n",
       "    .dataframe tbody tr th {\n",
       "        vertical-align: top;\n",
       "    }\n",
       "\n",
       "    .dataframe thead th {\n",
       "        text-align: right;\n",
       "    }\n",
       "</style>\n",
       "<table border=\"1\" class=\"dataframe\">\n",
       "  <thead>\n",
       "    <tr style=\"text-align: right;\">\n",
       "      <th></th>\n",
       "      <th>business_id</th>\n",
       "      <th>name</th>\n",
       "      <th>address</th>\n",
       "      <th>city</th>\n",
       "      <th>state</th>\n",
       "      <th>postal_code</th>\n",
       "      <th>latitude</th>\n",
       "      <th>longitude</th>\n",
       "      <th>stars</th>\n",
       "      <th>review_count</th>\n",
       "      <th>...</th>\n",
       "      <th>hours</th>\n",
       "      <th>review_id</th>\n",
       "      <th>user_id</th>\n",
       "      <th>review_stars</th>\n",
       "      <th>useful</th>\n",
       "      <th>funny</th>\n",
       "      <th>cool</th>\n",
       "      <th>text</th>\n",
       "      <th>date</th>\n",
       "      <th>reviewlen</th>\n",
       "    </tr>\n",
       "  </thead>\n",
       "  <tbody>\n",
       "    <tr>\n",
       "      <th>0</th>\n",
       "      <td>oiAlXZPIFm2nBCt0DHLu_Q</td>\n",
       "      <td>Green World Cleaners</td>\n",
       "      <td>6870 S Rainbow Blvd, Ste 117</td>\n",
       "      <td>Las Vegas</td>\n",
       "      <td>NV</td>\n",
       "      <td>89118.0</td>\n",
       "      <td>36.063977</td>\n",
       "      <td>-115.241463</td>\n",
       "      <td>3.5</td>\n",
       "      <td>81.0</td>\n",
       "      <td>...</td>\n",
       "      <td>{'Monday': '7:0-19:0', 'Tuesday': '7:0-19:0', ...</td>\n",
       "      <td>9bMxu3-RCv0ncYnNNNkbWg</td>\n",
       "      <td>IMguz1Z9dp8HG0UfeLEdEg</td>\n",
       "      <td>5.0</td>\n",
       "      <td>3.0</td>\n",
       "      <td>0.0</td>\n",
       "      <td>1.0</td>\n",
       "      <td>I've been coming to this dry cleaner for almos...</td>\n",
       "      <td>2016-06-23 05:50:54</td>\n",
       "      <td>361.0</td>\n",
       "    </tr>\n",
       "    <tr>\n",
       "      <th>1</th>\n",
       "      <td>oiAlXZPIFm2nBCt0DHLu_Q</td>\n",
       "      <td>Green World Cleaners</td>\n",
       "      <td>6870 S Rainbow Blvd, Ste 117</td>\n",
       "      <td>Las Vegas</td>\n",
       "      <td>NV</td>\n",
       "      <td>89118.0</td>\n",
       "      <td>36.063977</td>\n",
       "      <td>-115.241463</td>\n",
       "      <td>3.5</td>\n",
       "      <td>81.0</td>\n",
       "      <td>...</td>\n",
       "      <td>{'Monday': '7:0-19:0', 'Tuesday': '7:0-19:0', ...</td>\n",
       "      <td>b-B3ycJZmOTP5EdWTwCsMA</td>\n",
       "      <td>_TAVpa1Y2_5KZ5wWYeX_6g</td>\n",
       "      <td>1.0</td>\n",
       "      <td>1.0</td>\n",
       "      <td>0.0</td>\n",
       "      <td>0.0</td>\n",
       "      <td>They lost 2 pairs of my suitpants and told me ...</td>\n",
       "      <td>2011-10-27 23:35:10</td>\n",
       "      <td>282.0</td>\n",
       "    </tr>\n",
       "    <tr>\n",
       "      <th>2</th>\n",
       "      <td>oiAlXZPIFm2nBCt0DHLu_Q</td>\n",
       "      <td>Green World Cleaners</td>\n",
       "      <td>6870 S Rainbow Blvd, Ste 117</td>\n",
       "      <td>Las Vegas</td>\n",
       "      <td>NV</td>\n",
       "      <td>89118.0</td>\n",
       "      <td>36.063977</td>\n",
       "      <td>-115.241463</td>\n",
       "      <td>3.5</td>\n",
       "      <td>81.0</td>\n",
       "      <td>...</td>\n",
       "      <td>{'Monday': '7:0-19:0', 'Tuesday': '7:0-19:0', ...</td>\n",
       "      <td>MaIIb4Er_LuqN3zSSdA06w</td>\n",
       "      <td>45R6BBybzwDuJaL08d1myQ</td>\n",
       "      <td>5.0</td>\n",
       "      <td>1.0</td>\n",
       "      <td>0.0</td>\n",
       "      <td>0.0</td>\n",
       "      <td>I have been going to this dry cleaning since I...</td>\n",
       "      <td>2013-07-13 03:25:04</td>\n",
       "      <td>543.0</td>\n",
       "    </tr>\n",
       "    <tr>\n",
       "      <th>3</th>\n",
       "      <td>oiAlXZPIFm2nBCt0DHLu_Q</td>\n",
       "      <td>Green World Cleaners</td>\n",
       "      <td>6870 S Rainbow Blvd, Ste 117</td>\n",
       "      <td>Las Vegas</td>\n",
       "      <td>NV</td>\n",
       "      <td>89118.0</td>\n",
       "      <td>36.063977</td>\n",
       "      <td>-115.241463</td>\n",
       "      <td>3.5</td>\n",
       "      <td>81.0</td>\n",
       "      <td>...</td>\n",
       "      <td>{'Monday': '7:0-19:0', 'Tuesday': '7:0-19:0', ...</td>\n",
       "      <td>N8z7ppoHET-6m7O60Hau1g</td>\n",
       "      <td>lYvUtZWr1gGv4vlwNcJXDQ</td>\n",
       "      <td>1.0</td>\n",
       "      <td>2.0</td>\n",
       "      <td>0.0</td>\n",
       "      <td>0.0</td>\n",
       "      <td>The staff is very nice and friendly.  However ...</td>\n",
       "      <td>2016-05-07 16:01:55</td>\n",
       "      <td>777.0</td>\n",
       "    </tr>\n",
       "    <tr>\n",
       "      <th>4</th>\n",
       "      <td>oiAlXZPIFm2nBCt0DHLu_Q</td>\n",
       "      <td>Green World Cleaners</td>\n",
       "      <td>6870 S Rainbow Blvd, Ste 117</td>\n",
       "      <td>Las Vegas</td>\n",
       "      <td>NV</td>\n",
       "      <td>89118.0</td>\n",
       "      <td>36.063977</td>\n",
       "      <td>-115.241463</td>\n",
       "      <td>3.5</td>\n",
       "      <td>81.0</td>\n",
       "      <td>...</td>\n",
       "      <td>{'Monday': '7:0-19:0', 'Tuesday': '7:0-19:0', ...</td>\n",
       "      <td>jLVbrB6JJFpnrb-_6YwGOQ</td>\n",
       "      <td>b0eCjnqua4C3f0OLDhZHxA</td>\n",
       "      <td>1.0</td>\n",
       "      <td>1.0</td>\n",
       "      <td>1.0</td>\n",
       "      <td>0.0</td>\n",
       "      <td>DO NOT GO HERE.   They are great until there i...</td>\n",
       "      <td>2013-01-28 10:40:43</td>\n",
       "      <td>859.0</td>\n",
       "    </tr>\n",
       "  </tbody>\n",
       "</table>\n",
       "<p>5 rows × 23 columns</p>\n",
       "</div>"
      ],
      "text/plain": [
       "              business_id                  name                       address  \\\n",
       "0  oiAlXZPIFm2nBCt0DHLu_Q  Green World Cleaners  6870 S Rainbow Blvd, Ste 117   \n",
       "1  oiAlXZPIFm2nBCt0DHLu_Q  Green World Cleaners  6870 S Rainbow Blvd, Ste 117   \n",
       "2  oiAlXZPIFm2nBCt0DHLu_Q  Green World Cleaners  6870 S Rainbow Blvd, Ste 117   \n",
       "3  oiAlXZPIFm2nBCt0DHLu_Q  Green World Cleaners  6870 S Rainbow Blvd, Ste 117   \n",
       "4  oiAlXZPIFm2nBCt0DHLu_Q  Green World Cleaners  6870 S Rainbow Blvd, Ste 117   \n",
       "\n",
       "        city state  postal_code   latitude   longitude  stars  review_count  \\\n",
       "0  Las Vegas    NV      89118.0  36.063977 -115.241463    3.5          81.0   \n",
       "1  Las Vegas    NV      89118.0  36.063977 -115.241463    3.5          81.0   \n",
       "2  Las Vegas    NV      89118.0  36.063977 -115.241463    3.5          81.0   \n",
       "3  Las Vegas    NV      89118.0  36.063977 -115.241463    3.5          81.0   \n",
       "4  Las Vegas    NV      89118.0  36.063977 -115.241463    3.5          81.0   \n",
       "\n",
       "   ...                                              hours  \\\n",
       "0  ...  {'Monday': '7:0-19:0', 'Tuesday': '7:0-19:0', ...   \n",
       "1  ...  {'Monday': '7:0-19:0', 'Tuesday': '7:0-19:0', ...   \n",
       "2  ...  {'Monday': '7:0-19:0', 'Tuesday': '7:0-19:0', ...   \n",
       "3  ...  {'Monday': '7:0-19:0', 'Tuesday': '7:0-19:0', ...   \n",
       "4  ...  {'Monday': '7:0-19:0', 'Tuesday': '7:0-19:0', ...   \n",
       "\n",
       "                review_id                 user_id review_stars useful funny  \\\n",
       "0  9bMxu3-RCv0ncYnNNNkbWg  IMguz1Z9dp8HG0UfeLEdEg          5.0    3.0   0.0   \n",
       "1  b-B3ycJZmOTP5EdWTwCsMA  _TAVpa1Y2_5KZ5wWYeX_6g          1.0    1.0   0.0   \n",
       "2  MaIIb4Er_LuqN3zSSdA06w  45R6BBybzwDuJaL08d1myQ          5.0    1.0   0.0   \n",
       "3  N8z7ppoHET-6m7O60Hau1g  lYvUtZWr1gGv4vlwNcJXDQ          1.0    2.0   0.0   \n",
       "4  jLVbrB6JJFpnrb-_6YwGOQ  b0eCjnqua4C3f0OLDhZHxA          1.0    1.0   1.0   \n",
       "\n",
       "   cool                                               text  \\\n",
       "0   1.0  I've been coming to this dry cleaner for almos...   \n",
       "1   0.0  They lost 2 pairs of my suitpants and told me ...   \n",
       "2   0.0  I have been going to this dry cleaning since I...   \n",
       "3   0.0  The staff is very nice and friendly.  However ...   \n",
       "4   0.0  DO NOT GO HERE.   They are great until there i...   \n",
       "\n",
       "                  date  reviewlen  \n",
       "0  2016-06-23 05:50:54      361.0  \n",
       "1  2011-10-27 23:35:10      282.0  \n",
       "2  2013-07-13 03:25:04      543.0  \n",
       "3  2016-05-07 16:01:55      777.0  \n",
       "4  2013-01-28 10:40:43      859.0  \n",
       "\n",
       "[5 rows x 23 columns]"
      ]
     },
     "execution_count": 4,
     "metadata": {},
     "output_type": "execute_result"
    }
   ],
   "source": [
    "first_model_df = pd.read_csv('/Users/shivanibalaji/Downloads/review_and_business_data_cleaned_withdate.csv')\n",
    "first_model_df.head()"
   ]
  },
  {
   "cell_type": "code",
   "execution_count": 5,
   "metadata": {},
   "outputs": [],
   "source": [
    "first_model_df[\"categories\"] = first_model_df['categories'].astype(str)"
   ]
  },
  {
   "cell_type": "code",
   "execution_count": 6,
   "metadata": {},
   "outputs": [],
   "source": [
    "category_string = []\n",
    "dict_cat = {}\n",
    "for i in range(len(first_model_df[\"categories\"].values)):\n",
    "        for j in range(len(first_model_df[\"categories\"].values[i].split(\",\"))):\n",
    "            \n",
    "            if first_model_df[\"categories\"].values[i].split(\",\")[j] not in dict_cat:\n",
    "                dict_cat[first_model_df[\"categories\"].values[i].split(\",\")[j]] = 1\n",
    "            else:\n",
    "                dict_cat[first_model_df[\"categories\"].values[i].split(\",\")[j]] += 1"
   ]
  },
  {
   "cell_type": "code",
   "execution_count": 7,
   "metadata": {},
   "outputs": [
    {
     "data": {
      "text/plain": [
       "[(' Massage', 6975),\n",
       " (' Fitness & Instruction', 7241),\n",
       " ('Italian', 7291),\n",
       " ('Pizza', 7302),\n",
       " (' Diners', 7317),\n",
       " (' Chicken Wings', 7405),\n",
       " (' Ice Cream & Frozen Yogurt', 7413),\n",
       " ('Automotive', 7549),\n",
       " (' Thai', 7623),\n",
       " (' Mediterranean', 7630),\n",
       " ('Breakfast & Brunch', 7900),\n",
       " (' French', 7949),\n",
       " ('Japanese', 8070),\n",
       " (' Korean', 8183),\n",
       " ('Active Life', 8185),\n",
       " ('Mexican', 8288),\n",
       " (' Pubs', 8398),\n",
       " ('Sandwiches', 8442),\n",
       " ('Seafood', 8455),\n",
       " (' Home & Garden', 9052),\n",
       " ('Home Services', 9212),\n",
       " ('American (Traditional)', 9315),\n",
       " ('Hotels & Travel', 9328),\n",
       " (' Real Estate', 9386),\n",
       " ('Health & Medical', 9541),\n",
       " (' Soup', 9640),\n",
       " (' Wine Bars', 9783),\n",
       " (' Vegetarian', 9919),\n",
       " (' Waxing', 10161),\n",
       " (' Nail Salons', 10371),\n",
       " (' Auto Repair', 11015),\n",
       " (' Juice Bars & Smoothies', 11044),\n",
       " ('Bars', 11088),\n",
       " (' Local Flavor', 11186),\n",
       " (' Music Venues', 11363),\n",
       " (' Caterers', 11489),\n",
       " (' Professional Services', 11762),\n",
       " (' Skin Care', 11773),\n",
       " (' Sports Bars', 11966),\n",
       " (' Venues & Event Spaces', 12036),\n",
       " (' Doctors', 12125),\n",
       " ('Event Planning & Services', 12335),\n",
       " ('American (New)', 12396),\n",
       " (' Bakeries', 12586),\n",
       " (' Dance Clubs', 12602),\n",
       " ('Shopping', 12692),\n",
       " (' Beer', 12738),\n",
       " (' Vegan', 12769),\n",
       " ('Beauty & Spas', 12778),\n",
       " (' Hair Removal', 12845),\n",
       " (' Performing Arts', 13021),\n",
       " (' Barbeque', 13377),\n",
       " (' Fashion', 13392),\n",
       " (' Hair Salons', 13492),\n",
       " (' Cafes', 13752),\n",
       " (' Wine & Spirits', 14562),\n",
       " (' Resorts', 14723),\n",
       " (' Day Spas', 15160),\n",
       " (' Specialty Food', 15782),\n",
       " (' Fast Food', 17275),\n",
       " (' Buffets', 17999),\n",
       " (' Chinese', 18781),\n",
       " (' Sushi Bars', 19883),\n",
       " (' Cocktail Bars', 20245),\n",
       " (' Salad', 20405),\n",
       " (' Pizza', 21173),\n",
       " (' Lounges', 21233),\n",
       " ('Arts & Entertainment', 22322),\n",
       " (' Italian', 22517),\n",
       " (' Coffee & Tea', 22587),\n",
       " (' Automotive', 22649),\n",
       " (' Local Services', 22746),\n",
       " (' Steakhouses', 22836),\n",
       " (' Asian Fusion', 23484),\n",
       " (' Active Life', 23839),\n",
       " (' Mexican', 24050),\n",
       " (' Desserts', 24717),\n",
       " ('Food', 26218),\n",
       " (' Burgers', 26226),\n",
       " ('Nightlife', 26449),\n",
       " (' Sandwiches', 26667),\n",
       " (' Japanese', 27286),\n",
       " (' Seafood', 29115),\n",
       " (' Health & Medical', 29190),\n",
       " (' Home Services', 30841),\n",
       " (' Casinos', 41572),\n",
       " (' Beauty & Spas', 43763),\n",
       " (' Hotels', 46045),\n",
       " (' American (New)', 52309),\n",
       " (' Shopping', 53161),\n",
       " (' American (Traditional)', 55023),\n",
       " (' Breakfast & Brunch', 56093),\n",
       " (' Hotels & Travel', 61899),\n",
       " (' Arts & Entertainment', 65097),\n",
       " (' Event Planning & Services', 73256),\n",
       " ('Restaurants', 87711),\n",
       " (' Bars', 96074),\n",
       " (' Nightlife', 101555),\n",
       " (' Food', 108975),\n",
       " (' Restaurants', 272029)]"
      ]
     },
     "execution_count": 7,
     "metadata": {},
     "output_type": "execute_result"
    }
   ],
   "source": [
    "sorted(dict_cat.items(), key=lambda x: x[1])[-100:]"
   ]
  },
  {
   "cell_type": "code",
   "execution_count": 8,
   "metadata": {},
   "outputs": [
    {
     "data": {
      "text/plain": [
       "(679950, 23)"
      ]
     },
     "execution_count": 8,
     "metadata": {},
     "output_type": "execute_result"
    }
   ],
   "source": [
    "first_model_df.shape"
   ]
  },
  {
   "cell_type": "code",
   "execution_count": 9,
   "metadata": {},
   "outputs": [
    {
     "data": {
      "text/plain": [
       "(421003, 23)"
      ]
     },
     "execution_count": 9,
     "metadata": {},
     "output_type": "execute_result"
    }
   ],
   "source": [
    "first_model_df[first_model_df['categories'].str.contains(\"Italian|Pizza|Diners|Chicken|Yogurt|Thai|Mediterranean|Breakfast|Brunch|French|Japanese|Korean|Mexican|Pubs|Sandwich|Seafood|Soup|Wine|Bars|Vegetarian|Juice|Flavor|Baker|Beer|Vegan|Barbeque|Cafe|Food|Buffet|Chinese|Sushi|Salad|Pizza|Italian|Coffee|Tea|Steak|Dessert|Burger|Sandwich|Restaurant\", flags=re.IGNORECASE, regex=True)].shape"
   ]
  },
  {
   "cell_type": "code",
   "execution_count": 10,
   "metadata": {},
   "outputs": [],
   "source": [
    "# Assigning the new dataframe as the main DF\n",
    "yelp_data = first_model_df[first_model_df['categories'].str.contains(\"Italian|Pizza|Diners|Chicken|Yogurt|Thai|Mediterranean|Breakfast|Brunch|French|Japanese|Korean|Mexican|Pubs|Sandwich|Seafood|Soup|Wine|Bars|Vegetarian|Juice|Flavor|Baker|Beer|Vegan|Barbeque|Cafe|Food|Buffet|Chinese|Sushi|Salad|Pizza|Italian|Coffee|Tea|Steak|Dessert|Burger|Sandwich|Restaurant\", flags=re.IGNORECASE, regex=True)]"
   ]
  },
  {
   "cell_type": "code",
   "execution_count": 11,
   "metadata": {},
   "outputs": [
    {
     "data": {
      "text/html": [
       "<div>\n",
       "<style scoped>\n",
       "    .dataframe tbody tr th:only-of-type {\n",
       "        vertical-align: middle;\n",
       "    }\n",
       "\n",
       "    .dataframe tbody tr th {\n",
       "        vertical-align: top;\n",
       "    }\n",
       "\n",
       "    .dataframe thead th {\n",
       "        text-align: right;\n",
       "    }\n",
       "</style>\n",
       "<table border=\"1\" class=\"dataframe\">\n",
       "  <thead>\n",
       "    <tr style=\"text-align: right;\">\n",
       "      <th></th>\n",
       "      <th>business_id</th>\n",
       "      <th>name</th>\n",
       "      <th>address</th>\n",
       "      <th>city</th>\n",
       "      <th>state</th>\n",
       "      <th>postal_code</th>\n",
       "      <th>latitude</th>\n",
       "      <th>longitude</th>\n",
       "      <th>stars</th>\n",
       "      <th>review_count</th>\n",
       "      <th>...</th>\n",
       "      <th>hours</th>\n",
       "      <th>review_id</th>\n",
       "      <th>user_id</th>\n",
       "      <th>review_stars</th>\n",
       "      <th>useful</th>\n",
       "      <th>funny</th>\n",
       "      <th>cool</th>\n",
       "      <th>text</th>\n",
       "      <th>date</th>\n",
       "      <th>reviewlen</th>\n",
       "    </tr>\n",
       "  </thead>\n",
       "  <tbody>\n",
       "    <tr>\n",
       "      <th>58</th>\n",
       "      <td>OWkS1FXNJbozn-qPg3LWxg</td>\n",
       "      <td>Mama Napoli Pizza</td>\n",
       "      <td>NaN</td>\n",
       "      <td>Las Vegas</td>\n",
       "      <td>NV</td>\n",
       "      <td>89109.0</td>\n",
       "      <td>36.128561</td>\n",
       "      <td>-115.171130</td>\n",
       "      <td>4.5</td>\n",
       "      <td>11.0</td>\n",
       "      <td>...</td>\n",
       "      <td>{'Friday': '18:0-0:0'}</td>\n",
       "      <td>3YqK4FWeq2hPRFIIuDkv4w</td>\n",
       "      <td>-xDW3gYiYaoeVASXywTPgw</td>\n",
       "      <td>5.0</td>\n",
       "      <td>20.0</td>\n",
       "      <td>8.0</td>\n",
       "      <td>19.0</td>\n",
       "      <td>For real.\\nThis place has INCREDIBLE pizza! \\n...</td>\n",
       "      <td>2018-03-29 00:13:11</td>\n",
       "      <td>679.0</td>\n",
       "    </tr>\n",
       "    <tr>\n",
       "      <th>60</th>\n",
       "      <td>MTx-Zdl_KcU_z9G832XAjg</td>\n",
       "      <td>Taco Bell</td>\n",
       "      <td>8033 N Durango Dr</td>\n",
       "      <td>Las Vegas</td>\n",
       "      <td>NV</td>\n",
       "      <td>89131.0</td>\n",
       "      <td>36.307495</td>\n",
       "      <td>-115.279059</td>\n",
       "      <td>2.5</td>\n",
       "      <td>37.0</td>\n",
       "      <td>...</td>\n",
       "      <td>NaN</td>\n",
       "      <td>J3JlYjXed3THOUJ7ULBCoQ</td>\n",
       "      <td>OE5MNd5PVORXxcrHEoWPdA</td>\n",
       "      <td>1.0</td>\n",
       "      <td>1.0</td>\n",
       "      <td>1.0</td>\n",
       "      <td>1.0</td>\n",
       "      <td>Do not stop here if you are wanting fast food....</td>\n",
       "      <td>2016-07-04 21:04:10</td>\n",
       "      <td>360.0</td>\n",
       "    </tr>\n",
       "    <tr>\n",
       "      <th>61</th>\n",
       "      <td>MTx-Zdl_KcU_z9G832XAjg</td>\n",
       "      <td>Taco Bell</td>\n",
       "      <td>8033 N Durango Dr</td>\n",
       "      <td>Las Vegas</td>\n",
       "      <td>NV</td>\n",
       "      <td>89131.0</td>\n",
       "      <td>36.307495</td>\n",
       "      <td>-115.279059</td>\n",
       "      <td>2.5</td>\n",
       "      <td>37.0</td>\n",
       "      <td>...</td>\n",
       "      <td>NaN</td>\n",
       "      <td>UrngYfT6p3nODopogwVzTg</td>\n",
       "      <td>7S2wwOSVSRn4CEZdtQKG_Q</td>\n",
       "      <td>4.0</td>\n",
       "      <td>3.0</td>\n",
       "      <td>4.0</td>\n",
       "      <td>5.0</td>\n",
       "      <td>\"Yo Quiero Taco Bell!\" \\n\\nFor a Taco Bell thi...</td>\n",
       "      <td>2014-05-12 00:45:44</td>\n",
       "      <td>722.0</td>\n",
       "    </tr>\n",
       "    <tr>\n",
       "      <th>62</th>\n",
       "      <td>MTx-Zdl_KcU_z9G832XAjg</td>\n",
       "      <td>Taco Bell</td>\n",
       "      <td>8033 N Durango Dr</td>\n",
       "      <td>Las Vegas</td>\n",
       "      <td>NV</td>\n",
       "      <td>89131.0</td>\n",
       "      <td>36.307495</td>\n",
       "      <td>-115.279059</td>\n",
       "      <td>2.5</td>\n",
       "      <td>37.0</td>\n",
       "      <td>...</td>\n",
       "      <td>NaN</td>\n",
       "      <td>lZXy2R3TiE5lmY4DpQiQqw</td>\n",
       "      <td>IRMEgNiP4IMRqw8i00ZMug</td>\n",
       "      <td>5.0</td>\n",
       "      <td>1.0</td>\n",
       "      <td>1.0</td>\n",
       "      <td>0.0</td>\n",
       "      <td>Okay I don't know what manager is in charge he...</td>\n",
       "      <td>2018-08-17 00:07:51</td>\n",
       "      <td>711.0</td>\n",
       "    </tr>\n",
       "    <tr>\n",
       "      <th>63</th>\n",
       "      <td>MTx-Zdl_KcU_z9G832XAjg</td>\n",
       "      <td>Taco Bell</td>\n",
       "      <td>8033 N Durango Dr</td>\n",
       "      <td>Las Vegas</td>\n",
       "      <td>NV</td>\n",
       "      <td>89131.0</td>\n",
       "      <td>36.307495</td>\n",
       "      <td>-115.279059</td>\n",
       "      <td>2.5</td>\n",
       "      <td>37.0</td>\n",
       "      <td>...</td>\n",
       "      <td>NaN</td>\n",
       "      <td>1wSvl6EDA1N6F0DJOD0LZg</td>\n",
       "      <td>XUEwSGOGARxW-3gPiGJKUg</td>\n",
       "      <td>4.0</td>\n",
       "      <td>3.0</td>\n",
       "      <td>3.0</td>\n",
       "      <td>3.0</td>\n",
       "      <td>The Stuft Nacho box was pretty good.  The serv...</td>\n",
       "      <td>2015-05-30 23:50:42</td>\n",
       "      <td>111.0</td>\n",
       "    </tr>\n",
       "  </tbody>\n",
       "</table>\n",
       "<p>5 rows × 23 columns</p>\n",
       "</div>"
      ],
      "text/plain": [
       "               business_id               name            address       city  \\\n",
       "58  OWkS1FXNJbozn-qPg3LWxg  Mama Napoli Pizza                NaN  Las Vegas   \n",
       "60  MTx-Zdl_KcU_z9G832XAjg          Taco Bell  8033 N Durango Dr  Las Vegas   \n",
       "61  MTx-Zdl_KcU_z9G832XAjg          Taco Bell  8033 N Durango Dr  Las Vegas   \n",
       "62  MTx-Zdl_KcU_z9G832XAjg          Taco Bell  8033 N Durango Dr  Las Vegas   \n",
       "63  MTx-Zdl_KcU_z9G832XAjg          Taco Bell  8033 N Durango Dr  Las Vegas   \n",
       "\n",
       "   state  postal_code   latitude   longitude  stars  review_count  ...  \\\n",
       "58    NV      89109.0  36.128561 -115.171130    4.5          11.0  ...   \n",
       "60    NV      89131.0  36.307495 -115.279059    2.5          37.0  ...   \n",
       "61    NV      89131.0  36.307495 -115.279059    2.5          37.0  ...   \n",
       "62    NV      89131.0  36.307495 -115.279059    2.5          37.0  ...   \n",
       "63    NV      89131.0  36.307495 -115.279059    2.5          37.0  ...   \n",
       "\n",
       "                     hours               review_id                 user_id  \\\n",
       "58  {'Friday': '18:0-0:0'}  3YqK4FWeq2hPRFIIuDkv4w  -xDW3gYiYaoeVASXywTPgw   \n",
       "60                     NaN  J3JlYjXed3THOUJ7ULBCoQ  OE5MNd5PVORXxcrHEoWPdA   \n",
       "61                     NaN  UrngYfT6p3nODopogwVzTg  7S2wwOSVSRn4CEZdtQKG_Q   \n",
       "62                     NaN  lZXy2R3TiE5lmY4DpQiQqw  IRMEgNiP4IMRqw8i00ZMug   \n",
       "63                     NaN  1wSvl6EDA1N6F0DJOD0LZg  XUEwSGOGARxW-3gPiGJKUg   \n",
       "\n",
       "   review_stars useful funny  cool  \\\n",
       "58          5.0   20.0   8.0  19.0   \n",
       "60          1.0    1.0   1.0   1.0   \n",
       "61          4.0    3.0   4.0   5.0   \n",
       "62          5.0    1.0   1.0   0.0   \n",
       "63          4.0    3.0   3.0   3.0   \n",
       "\n",
       "                                                 text                 date  \\\n",
       "58  For real.\\nThis place has INCREDIBLE pizza! \\n...  2018-03-29 00:13:11   \n",
       "60  Do not stop here if you are wanting fast food....  2016-07-04 21:04:10   \n",
       "61  \"Yo Quiero Taco Bell!\" \\n\\nFor a Taco Bell thi...  2014-05-12 00:45:44   \n",
       "62  Okay I don't know what manager is in charge he...  2018-08-17 00:07:51   \n",
       "63  The Stuft Nacho box was pretty good.  The serv...  2015-05-30 23:50:42   \n",
       "\n",
       "    reviewlen  \n",
       "58      679.0  \n",
       "60      360.0  \n",
       "61      722.0  \n",
       "62      711.0  \n",
       "63      111.0  \n",
       "\n",
       "[5 rows x 23 columns]"
      ]
     },
     "execution_count": 11,
     "metadata": {},
     "output_type": "execute_result"
    }
   ],
   "source": [
    "yelp_data.head()"
   ]
  },
  {
   "cell_type": "markdown",
   "metadata": {},
   "source": [
    "# Text Analysis"
   ]
  },
  {
   "cell_type": "markdown",
   "metadata": {},
   "source": [
    "## Data Cleaning"
   ]
  },
  {
   "cell_type": "code",
   "execution_count": 12,
   "metadata": {},
   "outputs": [
    {
     "name": "stderr",
     "output_type": "stream",
     "text": [
      "/Users/shivanibalaji/opt/anaconda3/lib/python3.8/site-packages/pandas/core/generic.py:5303: SettingWithCopyWarning: \n",
      "A value is trying to be set on a copy of a slice from a DataFrame.\n",
      "Try using .loc[row_indexer,col_indexer] = value instead\n",
      "\n",
      "See the caveats in the documentation: https://pandas.pydata.org/pandas-docs/stable/user_guide/indexing.html#returning-a-view-versus-a-copy\n",
      "  self[name] = value\n"
     ]
    },
    {
     "data": {
      "text/plain": [
       "business_id      object\n",
       "name             object\n",
       "address          object\n",
       "city             object\n",
       "state            object\n",
       "postal_code     float64\n",
       "latitude        float64\n",
       "longitude       float64\n",
       "stars           float64\n",
       "review_count    float64\n",
       "is_open         float64\n",
       "attributes       object\n",
       "categories       object\n",
       "hours            object\n",
       "review_id        object\n",
       "user_id          object\n",
       "review_stars    float64\n",
       "useful          float64\n",
       "funny           float64\n",
       "cool            float64\n",
       "text             object\n",
       "date             object\n",
       "reviewlen       float64\n",
       "dtype: object"
      ]
     },
     "execution_count": 12,
     "metadata": {},
     "output_type": "execute_result"
    }
   ],
   "source": [
    "yelp_data.text = yelp_data.text.astype(str)\n",
    "yelp_data.dtypes"
   ]
  },
  {
   "cell_type": "code",
   "execution_count": 13,
   "metadata": {},
   "outputs": [],
   "source": [
    "import string\n",
    "from nltk.corpus import stopwords\n",
    "stop = []\n",
    "for word in stopwords.words('english'):\n",
    "    s = [char for char in word if char not in string.punctuation]\n",
    "    stop.append(''.join(s))"
   ]
  },
  {
   "cell_type": "code",
   "execution_count": 14,
   "metadata": {},
   "outputs": [
    {
     "name": "stderr",
     "output_type": "stream",
     "text": [
      "<ipython-input-14-260349e08bb6>:16: SettingWithCopyWarning: \n",
      "A value is trying to be set on a copy of a slice from a DataFrame.\n",
      "Try using .loc[row_indexer,col_indexer] = value instead\n",
      "\n",
      "See the caveats in the documentation: https://pandas.pydata.org/pandas-docs/stable/user_guide/indexing.html#returning-a-view-versus-a-copy\n",
      "  yelp_data['text'] = yelp_data['text'].apply(text_process)\n"
     ]
    }
   ],
   "source": [
    "def text_process(mess):\n",
    "    \"\"\"\n",
    "    Takes in a string of text, then performs the following:\n",
    "    1. Remove all punctuation\n",
    "    2. Remove all stopwords\n",
    "    3. Returns a list of the cleaned text\n",
    "    \"\"\"\n",
    "    # Check characters to see if they are in punctuation\n",
    "    nopunc = [char for char in mess if char not in string.punctuation]\n",
    "# Join the characters again to form the string.\n",
    "    nopunc = ''.join(nopunc)\n",
    "    \n",
    "    # Now just remove any stopwords\n",
    "    return \" \".join([word for word in nopunc.split() if word.lower() not in stop])\n",
    "\n",
    "yelp_data['text'] = yelp_data['text'].apply(text_process)\n"
   ]
  },
  {
   "cell_type": "code",
   "execution_count": 15,
   "metadata": {},
   "outputs": [
    {
     "data": {
      "text/html": [
       "<div>\n",
       "<style scoped>\n",
       "    .dataframe tbody tr th:only-of-type {\n",
       "        vertical-align: middle;\n",
       "    }\n",
       "\n",
       "    .dataframe tbody tr th {\n",
       "        vertical-align: top;\n",
       "    }\n",
       "\n",
       "    .dataframe thead th {\n",
       "        text-align: right;\n",
       "    }\n",
       "</style>\n",
       "<table border=\"1\" class=\"dataframe\">\n",
       "  <thead>\n",
       "    <tr style=\"text-align: right;\">\n",
       "      <th></th>\n",
       "      <th>business_id</th>\n",
       "      <th>name</th>\n",
       "      <th>address</th>\n",
       "      <th>city</th>\n",
       "      <th>state</th>\n",
       "      <th>postal_code</th>\n",
       "      <th>latitude</th>\n",
       "      <th>longitude</th>\n",
       "      <th>stars</th>\n",
       "      <th>review_count</th>\n",
       "      <th>...</th>\n",
       "      <th>hours</th>\n",
       "      <th>review_id</th>\n",
       "      <th>user_id</th>\n",
       "      <th>review_stars</th>\n",
       "      <th>useful</th>\n",
       "      <th>funny</th>\n",
       "      <th>cool</th>\n",
       "      <th>text</th>\n",
       "      <th>date</th>\n",
       "      <th>reviewlen</th>\n",
       "    </tr>\n",
       "  </thead>\n",
       "  <tbody>\n",
       "    <tr>\n",
       "      <th>58</th>\n",
       "      <td>OWkS1FXNJbozn-qPg3LWxg</td>\n",
       "      <td>Mama Napoli Pizza</td>\n",
       "      <td>NaN</td>\n",
       "      <td>Las Vegas</td>\n",
       "      <td>NV</td>\n",
       "      <td>89109.0</td>\n",
       "      <td>36.128561</td>\n",
       "      <td>-115.171130</td>\n",
       "      <td>4.5</td>\n",
       "      <td>11.0</td>\n",
       "      <td>...</td>\n",
       "      <td>{'Friday': '18:0-0:0'}</td>\n",
       "      <td>3YqK4FWeq2hPRFIIuDkv4w</td>\n",
       "      <td>-xDW3gYiYaoeVASXywTPgw</td>\n",
       "      <td>5.0</td>\n",
       "      <td>20.0</td>\n",
       "      <td>8.0</td>\n",
       "      <td>19.0</td>\n",
       "      <td>real place INCREDIBLE pizza go Tenaya Creek dr...</td>\n",
       "      <td>2018-03-29 00:13:11</td>\n",
       "      <td>679.0</td>\n",
       "    </tr>\n",
       "    <tr>\n",
       "      <th>60</th>\n",
       "      <td>MTx-Zdl_KcU_z9G832XAjg</td>\n",
       "      <td>Taco Bell</td>\n",
       "      <td>8033 N Durango Dr</td>\n",
       "      <td>Las Vegas</td>\n",
       "      <td>NV</td>\n",
       "      <td>89131.0</td>\n",
       "      <td>36.307495</td>\n",
       "      <td>-115.279059</td>\n",
       "      <td>2.5</td>\n",
       "      <td>37.0</td>\n",
       "      <td>...</td>\n",
       "      <td>NaN</td>\n",
       "      <td>J3JlYjXed3THOUJ7ULBCoQ</td>\n",
       "      <td>OE5MNd5PVORXxcrHEoWPdA</td>\n",
       "      <td>1.0</td>\n",
       "      <td>1.0</td>\n",
       "      <td>1.0</td>\n",
       "      <td>1.0</td>\n",
       "      <td>stop wanting fast food Nothing place fast thou...</td>\n",
       "      <td>2016-07-04 21:04:10</td>\n",
       "      <td>360.0</td>\n",
       "    </tr>\n",
       "    <tr>\n",
       "      <th>61</th>\n",
       "      <td>MTx-Zdl_KcU_z9G832XAjg</td>\n",
       "      <td>Taco Bell</td>\n",
       "      <td>8033 N Durango Dr</td>\n",
       "      <td>Las Vegas</td>\n",
       "      <td>NV</td>\n",
       "      <td>89131.0</td>\n",
       "      <td>36.307495</td>\n",
       "      <td>-115.279059</td>\n",
       "      <td>2.5</td>\n",
       "      <td>37.0</td>\n",
       "      <td>...</td>\n",
       "      <td>NaN</td>\n",
       "      <td>UrngYfT6p3nODopogwVzTg</td>\n",
       "      <td>7S2wwOSVSRn4CEZdtQKG_Q</td>\n",
       "      <td>4.0</td>\n",
       "      <td>3.0</td>\n",
       "      <td>4.0</td>\n",
       "      <td>5.0</td>\n",
       "      <td>Yo Quiero Taco Bell Taco Bell one better locat...</td>\n",
       "      <td>2014-05-12 00:45:44</td>\n",
       "      <td>722.0</td>\n",
       "    </tr>\n",
       "    <tr>\n",
       "      <th>62</th>\n",
       "      <td>MTx-Zdl_KcU_z9G832XAjg</td>\n",
       "      <td>Taco Bell</td>\n",
       "      <td>8033 N Durango Dr</td>\n",
       "      <td>Las Vegas</td>\n",
       "      <td>NV</td>\n",
       "      <td>89131.0</td>\n",
       "      <td>36.307495</td>\n",
       "      <td>-115.279059</td>\n",
       "      <td>2.5</td>\n",
       "      <td>37.0</td>\n",
       "      <td>...</td>\n",
       "      <td>NaN</td>\n",
       "      <td>lZXy2R3TiE5lmY4DpQiQqw</td>\n",
       "      <td>IRMEgNiP4IMRqw8i00ZMug</td>\n",
       "      <td>5.0</td>\n",
       "      <td>1.0</td>\n",
       "      <td>1.0</td>\n",
       "      <td>0.0</td>\n",
       "      <td>Okay know manager charge whatever change Give ...</td>\n",
       "      <td>2018-08-17 00:07:51</td>\n",
       "      <td>711.0</td>\n",
       "    </tr>\n",
       "    <tr>\n",
       "      <th>63</th>\n",
       "      <td>MTx-Zdl_KcU_z9G832XAjg</td>\n",
       "      <td>Taco Bell</td>\n",
       "      <td>8033 N Durango Dr</td>\n",
       "      <td>Las Vegas</td>\n",
       "      <td>NV</td>\n",
       "      <td>89131.0</td>\n",
       "      <td>36.307495</td>\n",
       "      <td>-115.279059</td>\n",
       "      <td>2.5</td>\n",
       "      <td>37.0</td>\n",
       "      <td>...</td>\n",
       "      <td>NaN</td>\n",
       "      <td>1wSvl6EDA1N6F0DJOD0LZg</td>\n",
       "      <td>XUEwSGOGARxW-3gPiGJKUg</td>\n",
       "      <td>4.0</td>\n",
       "      <td>3.0</td>\n",
       "      <td>3.0</td>\n",
       "      <td>3.0</td>\n",
       "      <td>Stuft Nacho box pretty good service fast frien...</td>\n",
       "      <td>2015-05-30 23:50:42</td>\n",
       "      <td>111.0</td>\n",
       "    </tr>\n",
       "  </tbody>\n",
       "</table>\n",
       "<p>5 rows × 23 columns</p>\n",
       "</div>"
      ],
      "text/plain": [
       "               business_id               name            address       city  \\\n",
       "58  OWkS1FXNJbozn-qPg3LWxg  Mama Napoli Pizza                NaN  Las Vegas   \n",
       "60  MTx-Zdl_KcU_z9G832XAjg          Taco Bell  8033 N Durango Dr  Las Vegas   \n",
       "61  MTx-Zdl_KcU_z9G832XAjg          Taco Bell  8033 N Durango Dr  Las Vegas   \n",
       "62  MTx-Zdl_KcU_z9G832XAjg          Taco Bell  8033 N Durango Dr  Las Vegas   \n",
       "63  MTx-Zdl_KcU_z9G832XAjg          Taco Bell  8033 N Durango Dr  Las Vegas   \n",
       "\n",
       "   state  postal_code   latitude   longitude  stars  review_count  ...  \\\n",
       "58    NV      89109.0  36.128561 -115.171130    4.5          11.0  ...   \n",
       "60    NV      89131.0  36.307495 -115.279059    2.5          37.0  ...   \n",
       "61    NV      89131.0  36.307495 -115.279059    2.5          37.0  ...   \n",
       "62    NV      89131.0  36.307495 -115.279059    2.5          37.0  ...   \n",
       "63    NV      89131.0  36.307495 -115.279059    2.5          37.0  ...   \n",
       "\n",
       "                     hours               review_id                 user_id  \\\n",
       "58  {'Friday': '18:0-0:0'}  3YqK4FWeq2hPRFIIuDkv4w  -xDW3gYiYaoeVASXywTPgw   \n",
       "60                     NaN  J3JlYjXed3THOUJ7ULBCoQ  OE5MNd5PVORXxcrHEoWPdA   \n",
       "61                     NaN  UrngYfT6p3nODopogwVzTg  7S2wwOSVSRn4CEZdtQKG_Q   \n",
       "62                     NaN  lZXy2R3TiE5lmY4DpQiQqw  IRMEgNiP4IMRqw8i00ZMug   \n",
       "63                     NaN  1wSvl6EDA1N6F0DJOD0LZg  XUEwSGOGARxW-3gPiGJKUg   \n",
       "\n",
       "   review_stars useful funny  cool  \\\n",
       "58          5.0   20.0   8.0  19.0   \n",
       "60          1.0    1.0   1.0   1.0   \n",
       "61          4.0    3.0   4.0   5.0   \n",
       "62          5.0    1.0   1.0   0.0   \n",
       "63          4.0    3.0   3.0   3.0   \n",
       "\n",
       "                                                 text                 date  \\\n",
       "58  real place INCREDIBLE pizza go Tenaya Creek dr...  2018-03-29 00:13:11   \n",
       "60  stop wanting fast food Nothing place fast thou...  2016-07-04 21:04:10   \n",
       "61  Yo Quiero Taco Bell Taco Bell one better locat...  2014-05-12 00:45:44   \n",
       "62  Okay know manager charge whatever change Give ...  2018-08-17 00:07:51   \n",
       "63  Stuft Nacho box pretty good service fast frien...  2015-05-30 23:50:42   \n",
       "\n",
       "    reviewlen  \n",
       "58      679.0  \n",
       "60      360.0  \n",
       "61      722.0  \n",
       "62      711.0  \n",
       "63      111.0  \n",
       "\n",
       "[5 rows x 23 columns]"
      ]
     },
     "execution_count": 15,
     "metadata": {},
     "output_type": "execute_result"
    }
   ],
   "source": [
    "yelp_data.head()"
   ]
  },
  {
   "cell_type": "code",
   "execution_count": 16,
   "metadata": {},
   "outputs": [
    {
     "name": "stderr",
     "output_type": "stream",
     "text": [
      "[nltk_data] Downloading package vader_lexicon to\n",
      "[nltk_data]     /Users/shivanibalaji/nltk_data...\n",
      "[nltk_data]   Package vader_lexicon is already up-to-date!\n"
     ]
    },
    {
     "data": {
      "text/plain": [
       "True"
      ]
     },
     "execution_count": 16,
     "metadata": {},
     "output_type": "execute_result"
    }
   ],
   "source": [
    "import nltk\n",
    "nltk.download('vader_lexicon')"
   ]
  },
  {
   "cell_type": "code",
   "execution_count": 17,
   "metadata": {},
   "outputs": [],
   "source": [
    "# Load SentimentIntensityAnalyzer\n",
    "from nltk.sentiment.vader import SentimentIntensityAnalyzer\n",
    "# Instantiate new SentimentIntensityAnalyzer\n",
    "sid = SentimentIntensityAnalyzer()\n",
    "# Generate sentiment scores\n",
    "sentiment_scores = yelp_data['text'].apply(sid.polarity_scores)\n",
    "sentiment = sentiment_scores.apply(lambda x: x['compound'])"
   ]
  },
  {
   "cell_type": "code",
   "execution_count": 18,
   "metadata": {},
   "outputs": [
    {
     "data": {
      "text/plain": [
       "Text(0, 0.5, 'Review Star Rating')"
      ]
     },
     "execution_count": 18,
     "metadata": {},
     "output_type": "execute_result"
    },
    {
     "data": {
      "image/png": "[encoded data removed]",
      "text/plain": [
       "<Figure size 1080x720 with 1 Axes>"
      ]
     },
     "metadata": {
      "needs_background": "light"
     },
     "output_type": "display_data"
    }
   ],
   "source": [
    "plt.figure(figsize=(15,10))\n",
    "plt.scatter(sentiment, yelp_data['review_stars'])\n",
    "plt.xlabel('Polarity Score')\n",
    "plt.ylabel('Review Star Rating')"
   ]
  },
  {
   "cell_type": "code",
   "execution_count": 19,
   "metadata": {},
   "outputs": [
    {
     "name": "stderr",
     "output_type": "stream",
     "text": [
      "<ipython-input-19-1bf63a7ea8d9>:1: SettingWithCopyWarning: \n",
      "A value is trying to be set on a copy of a slice from a DataFrame.\n",
      "Try using .loc[row_indexer,col_indexer] = value instead\n",
      "\n",
      "See the caveats in the documentation: https://pandas.pydata.org/pandas-docs/stable/user_guide/indexing.html#returning-a-view-versus-a-copy\n",
      "  yelp_data['polarity_score'] = sentiment\n"
     ]
    }
   ],
   "source": [
    "yelp_data['polarity_score'] = sentiment"
   ]
  },
  {
   "cell_type": "code",
   "execution_count": 20,
   "metadata": {},
   "outputs": [
    {
     "data": {
      "text/html": [
       "<div>\n",
       "<style scoped>\n",
       "    .dataframe tbody tr th:only-of-type {\n",
       "        vertical-align: middle;\n",
       "    }\n",
       "\n",
       "    .dataframe tbody tr th {\n",
       "        vertical-align: top;\n",
       "    }\n",
       "\n",
       "    .dataframe thead th {\n",
       "        text-align: right;\n",
       "    }\n",
       "</style>\n",
       "<table border=\"1\" class=\"dataframe\">\n",
       "  <thead>\n",
       "    <tr style=\"text-align: right;\">\n",
       "      <th></th>\n",
       "      <th>business_id</th>\n",
       "      <th>name</th>\n",
       "      <th>address</th>\n",
       "      <th>city</th>\n",
       "      <th>state</th>\n",
       "      <th>postal_code</th>\n",
       "      <th>latitude</th>\n",
       "      <th>longitude</th>\n",
       "      <th>stars</th>\n",
       "      <th>review_count</th>\n",
       "      <th>...</th>\n",
       "      <th>review_id</th>\n",
       "      <th>user_id</th>\n",
       "      <th>review_stars</th>\n",
       "      <th>useful</th>\n",
       "      <th>funny</th>\n",
       "      <th>cool</th>\n",
       "      <th>text</th>\n",
       "      <th>date</th>\n",
       "      <th>reviewlen</th>\n",
       "      <th>polarity_score</th>\n",
       "    </tr>\n",
       "  </thead>\n",
       "  <tbody>\n",
       "    <tr>\n",
       "      <th>58</th>\n",
       "      <td>OWkS1FXNJbozn-qPg3LWxg</td>\n",
       "      <td>Mama Napoli Pizza</td>\n",
       "      <td>NaN</td>\n",
       "      <td>Las Vegas</td>\n",
       "      <td>NV</td>\n",
       "      <td>89109.0</td>\n",
       "      <td>36.128561</td>\n",
       "      <td>-115.171130</td>\n",
       "      <td>4.5</td>\n",
       "      <td>11.0</td>\n",
       "      <td>...</td>\n",
       "      <td>3YqK4FWeq2hPRFIIuDkv4w</td>\n",
       "      <td>-xDW3gYiYaoeVASXywTPgw</td>\n",
       "      <td>5.0</td>\n",
       "      <td>20.0</td>\n",
       "      <td>8.0</td>\n",
       "      <td>19.0</td>\n",
       "      <td>real place INCREDIBLE pizza go Tenaya Creek dr...</td>\n",
       "      <td>2018-03-29 00:13:11</td>\n",
       "      <td>679.0</td>\n",
       "      <td>0.9699</td>\n",
       "    </tr>\n",
       "    <tr>\n",
       "      <th>60</th>\n",
       "      <td>MTx-Zdl_KcU_z9G832XAjg</td>\n",
       "      <td>Taco Bell</td>\n",
       "      <td>8033 N Durango Dr</td>\n",
       "      <td>Las Vegas</td>\n",
       "      <td>NV</td>\n",
       "      <td>89131.0</td>\n",
       "      <td>36.307495</td>\n",
       "      <td>-115.279059</td>\n",
       "      <td>2.5</td>\n",
       "      <td>37.0</td>\n",
       "      <td>...</td>\n",
       "      <td>J3JlYjXed3THOUJ7ULBCoQ</td>\n",
       "      <td>OE5MNd5PVORXxcrHEoWPdA</td>\n",
       "      <td>1.0</td>\n",
       "      <td>1.0</td>\n",
       "      <td>1.0</td>\n",
       "      <td>1.0</td>\n",
       "      <td>stop wanting fast food Nothing place fast thou...</td>\n",
       "      <td>2016-07-04 21:04:10</td>\n",
       "      <td>360.0</td>\n",
       "      <td>-0.8271</td>\n",
       "    </tr>\n",
       "    <tr>\n",
       "      <th>61</th>\n",
       "      <td>MTx-Zdl_KcU_z9G832XAjg</td>\n",
       "      <td>Taco Bell</td>\n",
       "      <td>8033 N Durango Dr</td>\n",
       "      <td>Las Vegas</td>\n",
       "      <td>NV</td>\n",
       "      <td>89131.0</td>\n",
       "      <td>36.307495</td>\n",
       "      <td>-115.279059</td>\n",
       "      <td>2.5</td>\n",
       "      <td>37.0</td>\n",
       "      <td>...</td>\n",
       "      <td>UrngYfT6p3nODopogwVzTg</td>\n",
       "      <td>7S2wwOSVSRn4CEZdtQKG_Q</td>\n",
       "      <td>4.0</td>\n",
       "      <td>3.0</td>\n",
       "      <td>4.0</td>\n",
       "      <td>5.0</td>\n",
       "      <td>Yo Quiero Taco Bell Taco Bell one better locat...</td>\n",
       "      <td>2014-05-12 00:45:44</td>\n",
       "      <td>722.0</td>\n",
       "      <td>0.9429</td>\n",
       "    </tr>\n",
       "    <tr>\n",
       "      <th>62</th>\n",
       "      <td>MTx-Zdl_KcU_z9G832XAjg</td>\n",
       "      <td>Taco Bell</td>\n",
       "      <td>8033 N Durango Dr</td>\n",
       "      <td>Las Vegas</td>\n",
       "      <td>NV</td>\n",
       "      <td>89131.0</td>\n",
       "      <td>36.307495</td>\n",
       "      <td>-115.279059</td>\n",
       "      <td>2.5</td>\n",
       "      <td>37.0</td>\n",
       "      <td>...</td>\n",
       "      <td>lZXy2R3TiE5lmY4DpQiQqw</td>\n",
       "      <td>IRMEgNiP4IMRqw8i00ZMug</td>\n",
       "      <td>5.0</td>\n",
       "      <td>1.0</td>\n",
       "      <td>1.0</td>\n",
       "      <td>0.0</td>\n",
       "      <td>Okay know manager charge whatever change Give ...</td>\n",
       "      <td>2018-08-17 00:07:51</td>\n",
       "      <td>711.0</td>\n",
       "      <td>0.9586</td>\n",
       "    </tr>\n",
       "    <tr>\n",
       "      <th>63</th>\n",
       "      <td>MTx-Zdl_KcU_z9G832XAjg</td>\n",
       "      <td>Taco Bell</td>\n",
       "      <td>8033 N Durango Dr</td>\n",
       "      <td>Las Vegas</td>\n",
       "      <td>NV</td>\n",
       "      <td>89131.0</td>\n",
       "      <td>36.307495</td>\n",
       "      <td>-115.279059</td>\n",
       "      <td>2.5</td>\n",
       "      <td>37.0</td>\n",
       "      <td>...</td>\n",
       "      <td>1wSvl6EDA1N6F0DJOD0LZg</td>\n",
       "      <td>XUEwSGOGARxW-3gPiGJKUg</td>\n",
       "      <td>4.0</td>\n",
       "      <td>3.0</td>\n",
       "      <td>3.0</td>\n",
       "      <td>3.0</td>\n",
       "      <td>Stuft Nacho box pretty good service fast frien...</td>\n",
       "      <td>2015-05-30 23:50:42</td>\n",
       "      <td>111.0</td>\n",
       "      <td>0.8519</td>\n",
       "    </tr>\n",
       "  </tbody>\n",
       "</table>\n",
       "<p>5 rows × 24 columns</p>\n",
       "</div>"
      ],
      "text/plain": [
       "               business_id               name            address       city  \\\n",
       "58  OWkS1FXNJbozn-qPg3LWxg  Mama Napoli Pizza                NaN  Las Vegas   \n",
       "60  MTx-Zdl_KcU_z9G832XAjg          Taco Bell  8033 N Durango Dr  Las Vegas   \n",
       "61  MTx-Zdl_KcU_z9G832XAjg          Taco Bell  8033 N Durango Dr  Las Vegas   \n",
       "62  MTx-Zdl_KcU_z9G832XAjg          Taco Bell  8033 N Durango Dr  Las Vegas   \n",
       "63  MTx-Zdl_KcU_z9G832XAjg          Taco Bell  8033 N Durango Dr  Las Vegas   \n",
       "\n",
       "   state  postal_code   latitude   longitude  stars  review_count  ...  \\\n",
       "58    NV      89109.0  36.128561 -115.171130    4.5          11.0  ...   \n",
       "60    NV      89131.0  36.307495 -115.279059    2.5          37.0  ...   \n",
       "61    NV      89131.0  36.307495 -115.279059    2.5          37.0  ...   \n",
       "62    NV      89131.0  36.307495 -115.279059    2.5          37.0  ...   \n",
       "63    NV      89131.0  36.307495 -115.279059    2.5          37.0  ...   \n",
       "\n",
       "                 review_id                 user_id review_stars useful funny  \\\n",
       "58  3YqK4FWeq2hPRFIIuDkv4w  -xDW3gYiYaoeVASXywTPgw          5.0   20.0   8.0   \n",
       "60  J3JlYjXed3THOUJ7ULBCoQ  OE5MNd5PVORXxcrHEoWPdA          1.0    1.0   1.0   \n",
       "61  UrngYfT6p3nODopogwVzTg  7S2wwOSVSRn4CEZdtQKG_Q          4.0    3.0   4.0   \n",
       "62  lZXy2R3TiE5lmY4DpQiQqw  IRMEgNiP4IMRqw8i00ZMug          5.0    1.0   1.0   \n",
       "63  1wSvl6EDA1N6F0DJOD0LZg  XUEwSGOGARxW-3gPiGJKUg          4.0    3.0   3.0   \n",
       "\n",
       "    cool                                               text  \\\n",
       "58  19.0  real place INCREDIBLE pizza go Tenaya Creek dr...   \n",
       "60   1.0  stop wanting fast food Nothing place fast thou...   \n",
       "61   5.0  Yo Quiero Taco Bell Taco Bell one better locat...   \n",
       "62   0.0  Okay know manager charge whatever change Give ...   \n",
       "63   3.0  Stuft Nacho box pretty good service fast frien...   \n",
       "\n",
       "                   date  reviewlen  polarity_score  \n",
       "58  2018-03-29 00:13:11      679.0          0.9699  \n",
       "60  2016-07-04 21:04:10      360.0         -0.8271  \n",
       "61  2014-05-12 00:45:44      722.0          0.9429  \n",
       "62  2018-08-17 00:07:51      711.0          0.9586  \n",
       "63  2015-05-30 23:50:42      111.0          0.8519  \n",
       "\n",
       "[5 rows x 24 columns]"
      ]
     },
     "execution_count": 20,
     "metadata": {},
     "output_type": "execute_result"
    }
   ],
   "source": [
    "yelp_data.head()"
   ]
  },
  {
   "cell_type": "code",
   "execution_count": 27,
   "metadata": {},
   "outputs": [
    {
     "data": {
      "text/html": [
       "<div>\n",
       "<style scoped>\n",
       "    .dataframe tbody tr th:only-of-type {\n",
       "        vertical-align: middle;\n",
       "    }\n",
       "\n",
       "    .dataframe tbody tr th {\n",
       "        vertical-align: top;\n",
       "    }\n",
       "\n",
       "    .dataframe thead th {\n",
       "        text-align: right;\n",
       "    }\n",
       "</style>\n",
       "<table border=\"1\" class=\"dataframe\">\n",
       "  <thead>\n",
       "    <tr style=\"text-align: right;\">\n",
       "      <th></th>\n",
       "      <th>polarity_score</th>\n",
       "      <th>text</th>\n",
       "    </tr>\n",
       "  </thead>\n",
       "  <tbody>\n",
       "    <tr>\n",
       "      <th>58</th>\n",
       "      <td>0.9699</td>\n",
       "      <td>real place INCREDIBLE pizza go Tenaya Creek dr...</td>\n",
       "    </tr>\n",
       "    <tr>\n",
       "      <th>60</th>\n",
       "      <td>-0.8271</td>\n",
       "      <td>stop wanting fast food Nothing place fast thou...</td>\n",
       "    </tr>\n",
       "    <tr>\n",
       "      <th>61</th>\n",
       "      <td>0.9429</td>\n",
       "      <td>Yo Quiero Taco Bell Taco Bell one better locat...</td>\n",
       "    </tr>\n",
       "    <tr>\n",
       "      <th>62</th>\n",
       "      <td>0.9586</td>\n",
       "      <td>Okay know manager charge whatever change Give ...</td>\n",
       "    </tr>\n",
       "    <tr>\n",
       "      <th>63</th>\n",
       "      <td>0.8519</td>\n",
       "      <td>Stuft Nacho box pretty good service fast frien...</td>\n",
       "    </tr>\n",
       "    <tr>\n",
       "      <th>64</th>\n",
       "      <td>0.0000</td>\n",
       "      <td>taco bell always takes forever Pulled drive th...</td>\n",
       "    </tr>\n",
       "    <tr>\n",
       "      <th>65</th>\n",
       "      <td>-0.5709</td>\n",
       "      <td>Absolutely disgusting drive thru 30 minutes an...</td>\n",
       "    </tr>\n",
       "    <tr>\n",
       "      <th>66</th>\n",
       "      <td>-0.5859</td>\n",
       "      <td>takes long get food mother got food poisoning ...</td>\n",
       "    </tr>\n",
       "    <tr>\n",
       "      <th>67</th>\n",
       "      <td>-0.7351</td>\n",
       "      <td>Terrible location Staffed seemingly entirely t...</td>\n",
       "    </tr>\n",
       "    <tr>\n",
       "      <th>68</th>\n",
       "      <td>-0.3612</td>\n",
       "      <td>Teenage staff slow microscopic portions even t...</td>\n",
       "    </tr>\n",
       "  </tbody>\n",
       "</table>\n",
       "</div>"
      ],
      "text/plain": [
       "    polarity_score                                               text\n",
       "58          0.9699  real place INCREDIBLE pizza go Tenaya Creek dr...\n",
       "60         -0.8271  stop wanting fast food Nothing place fast thou...\n",
       "61          0.9429  Yo Quiero Taco Bell Taco Bell one better locat...\n",
       "62          0.9586  Okay know manager charge whatever change Give ...\n",
       "63          0.8519  Stuft Nacho box pretty good service fast frien...\n",
       "64          0.0000  taco bell always takes forever Pulled drive th...\n",
       "65         -0.5709  Absolutely disgusting drive thru 30 minutes an...\n",
       "66         -0.5859  takes long get food mother got food poisoning ...\n",
       "67         -0.7351  Terrible location Staffed seemingly entirely t...\n",
       "68         -0.3612  Teenage staff slow microscopic portions even t..."
      ]
     },
     "execution_count": 27,
     "metadata": {},
     "output_type": "execute_result"
    }
   ],
   "source": [
    "yelp_data[['polarity_score', 'text']][:10]"
   ]
  },
  {
   "cell_type": "code",
   "execution_count": 22,
   "metadata": {},
   "outputs": [
    {
     "data": {
      "text/plain": [
       "-0.024"
      ]
     },
     "execution_count": 22,
     "metadata": {},
     "output_type": "execute_result"
    }
   ],
   "source": [
    "one_star_mean = np.round(yelp_data['polarity_score'][yelp_data['review_stars'] ==1].mean(), 3)\n",
    "one_star_mean"
   ]
  },
  {
   "cell_type": "code",
   "execution_count": 23,
   "metadata": {},
   "outputs": [
    {
     "data": {
      "text/plain": [
       "0.445"
      ]
     },
     "execution_count": 23,
     "metadata": {},
     "output_type": "execute_result"
    }
   ],
   "source": [
    "two_star_mean  = np.round(yelp_data['polarity_score'][yelp_data['review_stars'] ==2].mean(),3)\n",
    "two_star_mean"
   ]
  },
  {
   "cell_type": "code",
   "execution_count": 24,
   "metadata": {},
   "outputs": [
    {
     "data": {
      "text/plain": [
       "0.715"
      ]
     },
     "execution_count": 24,
     "metadata": {},
     "output_type": "execute_result"
    }
   ],
   "source": [
    "three_star_mean  = np.round(yelp_data['polarity_score'][yelp_data['review_stars'] ==3].mean(),3)\n",
    "three_star_mean"
   ]
  },
  {
   "cell_type": "code",
   "execution_count": 25,
   "metadata": {},
   "outputs": [
    {
     "data": {
      "text/plain": [
       "0.86"
      ]
     },
     "execution_count": 25,
     "metadata": {},
     "output_type": "execute_result"
    }
   ],
   "source": [
    "four_star_mean  = np.round(yelp_data['polarity_score'][yelp_data['review_stars'] ==4].mean(),3)\n",
    "four_star_mean"
   ]
  },
  {
   "cell_type": "code",
   "execution_count": 26,
   "metadata": {},
   "outputs": [
    {
     "data": {
      "text/plain": [
       "0.886"
      ]
     },
     "execution_count": 26,
     "metadata": {},
     "output_type": "execute_result"
    }
   ],
   "source": [
    "five_star_mean  = np.round(yelp_data['polarity_score'][yelp_data['review_stars'] ==5].mean(),3)\n",
    "five_star_mean"
   ]
  },
  {
   "cell_type": "code",
   "execution_count": 193,
   "metadata": {},
   "outputs": [
    {
     "data": {
      "text/plain": [
       "<BarContainer object of 5 artists>"
      ]
     },
     "execution_count": 193,
     "metadata": {},
     "output_type": "execute_result"
    },
    {
     "data": {
      "image/png": "[encoded data removed]",
      "text/plain": [
       "<Figure size 432x288 with 1 Axes>"
      ]
     },
     "metadata": {
      "needs_background": "light"
     },
     "output_type": "display_data"
    }
   ],
   "source": [
    "mean_polarity = [one_star_mean, two_star_mean, three_star_mean, four_star_mean, five_star_mean]\n",
    "\n",
    "plt.bar(mean_polarity, [1, 2, 3, 4, 5])"
   ]
  },
  {
   "cell_type": "code",
   "execution_count": 178,
   "metadata": {},
   "outputs": [
    {
     "data": {
      "text/plain": [
       "Text(0, 0.5, 'Review Star Rating')"
      ]
     },
     "execution_count": 178,
     "metadata": {},
     "output_type": "execute_result"
    },
    {
     "data": {
      "image/png": "[encoded data removed]",
      "text/plain": [
       "<Figure size 432x288 with 1 Axes>"
      ]
     },
     "metadata": {
      "needs_background": "light"
     },
     "output_type": "display_data"
    }
   ],
   "source": [
    "# Load SentimentIntensityAnalyzer\n",
    "from nltk.sentiment.vader import SentimentIntensityAnalyzer\n",
    "# Instantiate new SentimentIntensityAnalyzer\n",
    "sid = SentimentIntensityAnalyzer()\n",
    "# Generate sentiment scores\n",
    "sentiment_scores_1 = yelp_data['text'][:1000].apply(sid.polarity_scores)\n",
    "sentiment_1 = sentiment_scores_1.apply(lambda x: x['compound'])\n",
    "\n",
    "\n",
    "plt.scatter(sentiment_1, yelp_data['review_stars'][:1000])\n",
    "plt.xlabel('Polarity Score')\n",
    "plt.ylabel('Review Star Rating')"
   ]
  }
 ],
 "metadata": {
  "kernelspec": {
   "display_name": "Python 3",
   "language": "python",
   "name": "python3"
  },
  "language_info": {
   "codemirror_mode": {
    "name": "ipython",
    "version": 3
   },
   "file_extension": ".py",
   "mimetype": "text/x-python",
   "name": "python",
   "nbconvert_exporter": "python",
   "pygments_lexer": "ipython3",
   "version": "3.8.3"
  }
 },
 "nbformat": 4,
 "nbformat_minor": 4
}
